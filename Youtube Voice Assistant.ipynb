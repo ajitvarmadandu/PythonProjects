{
 "cells": [
  {
   "cell_type": "code",
   "execution_count": 3,
   "metadata": {},
   "outputs": [
    {
     "name": "stdout",
     "output_type": "stream",
     "text": [
      "How can I help you?\n",
      "punju squad\n"
     ]
    }
   ],
   "source": [
    "import speech_recognition as speech\n",
    "import webbrowser\n",
    "\n",
    "speech.Microphone(device_index=1)\n",
    "r=speech.Recognizer()\n",
    "r.energy_threshold=5000\n",
    "\n",
    "with speech.Microphone() as source:\n",
    "    print(\"How can I help you?\")\n",
    "    audioinput=r.listen(source)\n",
    "    try:\n",
    "        text=r.recognize_google(audioinput)\n",
    "        print(text)\n",
    "        searchurl='https://www.youtube.com/results?search_query='\n",
    "        searchurl=searchurl+text\n",
    "        webbrowser.open(searchurl)\n",
    "    except:\n",
    "        print(\"Sorry!!\")"
   ]
  }
 ],
 "metadata": {
  "kernelspec": {
   "display_name": "Python 3",
   "language": "python",
   "name": "python3"
  },
  "language_info": {
   "codemirror_mode": {
    "name": "ipython",
    "version": 3
   },
   "file_extension": ".py",
   "mimetype": "text/x-python",
   "name": "python",
   "nbconvert_exporter": "python",
   "pygments_lexer": "ipython3",
   "version": "3.8.5"
  }
 },
 "nbformat": 4,
 "nbformat_minor": 4
}
